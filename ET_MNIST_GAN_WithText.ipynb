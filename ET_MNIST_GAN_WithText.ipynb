{
  "nbformat": 4,
  "nbformat_minor": 0,
  "metadata": {
    "colab": {
      "name": "ET MNIST_GAN_WithText.ipynb",
      "provenance": [],
      "collapsed_sections": [],
      "toc_visible": true,
      "include_colab_link": true
    },
    "kernelspec": {
      "name": "python3",
      "display_name": "Python 3"
    },
    "accelerator": "GPU",
    "widgets": {
      "application/vnd.jupyter.widget-state+json": {
        "df50d5edf6514901af54ba8396f22bfb": {
          "model_module": "@jupyter-widgets/controls",
          "model_name": "HBoxModel",
          "model_module_version": "1.5.0",
          "state": {
            "_view_name": "HBoxView",
            "_dom_classes": [],
            "_model_name": "HBoxModel",
            "_view_module": "@jupyter-widgets/controls",
            "_model_module_version": "1.5.0",
            "_view_count": null,
            "_view_module_version": "1.5.0",
            "box_style": "",
            "layout": "IPY_MODEL_1a26e0d6843542b3984af615c08f0b60",
            "_model_module": "@jupyter-widgets/controls",
            "children": [
              "IPY_MODEL_7ac8fade90fc4776bc377fcec09fb18f",
              "IPY_MODEL_39c8e96123a74ce2891f3425553d3326",
              "IPY_MODEL_59a1d72213d146b4bd4845a45ca927fb"
            ]
          }
        },
        "1a26e0d6843542b3984af615c08f0b60": {
          "model_module": "@jupyter-widgets/base",
          "model_name": "LayoutModel",
          "model_module_version": "1.2.0",
          "state": {
            "_view_name": "LayoutView",
            "grid_template_rows": null,
            "right": null,
            "justify_content": null,
            "_view_module": "@jupyter-widgets/base",
            "overflow": null,
            "_model_module_version": "1.2.0",
            "_view_count": null,
            "flex_flow": null,
            "width": null,
            "min_width": null,
            "border": null,
            "align_items": null,
            "bottom": null,
            "_model_module": "@jupyter-widgets/base",
            "top": null,
            "grid_column": null,
            "overflow_y": null,
            "overflow_x": null,
            "grid_auto_flow": null,
            "grid_area": null,
            "grid_template_columns": null,
            "flex": null,
            "_model_name": "LayoutModel",
            "justify_items": null,
            "grid_row": null,
            "max_height": null,
            "align_content": null,
            "visibility": null,
            "align_self": null,
            "height": null,
            "min_height": null,
            "padding": null,
            "grid_auto_rows": null,
            "grid_gap": null,
            "max_width": null,
            "order": null,
            "_view_module_version": "1.2.0",
            "grid_template_areas": null,
            "object_position": null,
            "object_fit": null,
            "grid_auto_columns": null,
            "margin": null,
            "display": null,
            "left": null
          }
        },
        "7ac8fade90fc4776bc377fcec09fb18f": {
          "model_module": "@jupyter-widgets/controls",
          "model_name": "HTMLModel",
          "model_module_version": "1.5.0",
          "state": {
            "_view_name": "HTMLView",
            "style": "IPY_MODEL_9977882ff17e4f879f41de12bbb2b9f3",
            "_dom_classes": [],
            "description": "",
            "_model_name": "HTMLModel",
            "placeholder": "​",
            "_view_module": "@jupyter-widgets/controls",
            "_model_module_version": "1.5.0",
            "value": "",
            "_view_count": null,
            "_view_module_version": "1.5.0",
            "description_tooltip": null,
            "_model_module": "@jupyter-widgets/controls",
            "layout": "IPY_MODEL_0c3b538d2bfd42acb1e45d65e276e897"
          }
        },
        "39c8e96123a74ce2891f3425553d3326": {
          "model_module": "@jupyter-widgets/controls",
          "model_name": "FloatProgressModel",
          "model_module_version": "1.5.0",
          "state": {
            "_view_name": "ProgressView",
            "style": "IPY_MODEL_58dc567095674251890ec074d57bbfb8",
            "_dom_classes": [],
            "description": "",
            "_model_name": "FloatProgressModel",
            "bar_style": "success",
            "max": 9912422,
            "_view_module": "@jupyter-widgets/controls",
            "_model_module_version": "1.5.0",
            "value": 9912422,
            "_view_count": null,
            "_view_module_version": "1.5.0",
            "orientation": "horizontal",
            "min": 0,
            "description_tooltip": null,
            "_model_module": "@jupyter-widgets/controls",
            "layout": "IPY_MODEL_2e3de6e721db4cae841a0354fa987ffc"
          }
        },
        "59a1d72213d146b4bd4845a45ca927fb": {
          "model_module": "@jupyter-widgets/controls",
          "model_name": "HTMLModel",
          "model_module_version": "1.5.0",
          "state": {
            "_view_name": "HTMLView",
            "style": "IPY_MODEL_6fd6887d5af44b19bd996ad3adb7cac8",
            "_dom_classes": [],
            "description": "",
            "_model_name": "HTMLModel",
            "placeholder": "​",
            "_view_module": "@jupyter-widgets/controls",
            "_model_module_version": "1.5.0",
            "value": " 9913344/? [00:00&lt;00:00, 20060803.81it/s]",
            "_view_count": null,
            "_view_module_version": "1.5.0",
            "description_tooltip": null,
            "_model_module": "@jupyter-widgets/controls",
            "layout": "IPY_MODEL_a67581bcf29644a1bbbc3de2bab54519"
          }
        },
        "9977882ff17e4f879f41de12bbb2b9f3": {
          "model_module": "@jupyter-widgets/controls",
          "model_name": "DescriptionStyleModel",
          "model_module_version": "1.5.0",
          "state": {
            "_view_name": "StyleView",
            "_model_name": "DescriptionStyleModel",
            "description_width": "",
            "_view_module": "@jupyter-widgets/base",
            "_model_module_version": "1.5.0",
            "_view_count": null,
            "_view_module_version": "1.2.0",
            "_model_module": "@jupyter-widgets/controls"
          }
        },
        "0c3b538d2bfd42acb1e45d65e276e897": {
          "model_module": "@jupyter-widgets/base",
          "model_name": "LayoutModel",
          "model_module_version": "1.2.0",
          "state": {
            "_view_name": "LayoutView",
            "grid_template_rows": null,
            "right": null,
            "justify_content": null,
            "_view_module": "@jupyter-widgets/base",
            "overflow": null,
            "_model_module_version": "1.2.0",
            "_view_count": null,
            "flex_flow": null,
            "width": null,
            "min_width": null,
            "border": null,
            "align_items": null,
            "bottom": null,
            "_model_module": "@jupyter-widgets/base",
            "top": null,
            "grid_column": null,
            "overflow_y": null,
            "overflow_x": null,
            "grid_auto_flow": null,
            "grid_area": null,
            "grid_template_columns": null,
            "flex": null,
            "_model_name": "LayoutModel",
            "justify_items": null,
            "grid_row": null,
            "max_height": null,
            "align_content": null,
            "visibility": null,
            "align_self": null,
            "height": null,
            "min_height": null,
            "padding": null,
            "grid_auto_rows": null,
            "grid_gap": null,
            "max_width": null,
            "order": null,
            "_view_module_version": "1.2.0",
            "grid_template_areas": null,
            "object_position": null,
            "object_fit": null,
            "grid_auto_columns": null,
            "margin": null,
            "display": null,
            "left": null
          }
        },
        "58dc567095674251890ec074d57bbfb8": {
          "model_module": "@jupyter-widgets/controls",
          "model_name": "ProgressStyleModel",
          "model_module_version": "1.5.0",
          "state": {
            "_view_name": "StyleView",
            "_model_name": "ProgressStyleModel",
            "description_width": "",
            "_view_module": "@jupyter-widgets/base",
            "_model_module_version": "1.5.0",
            "_view_count": null,
            "_view_module_version": "1.2.0",
            "bar_color": null,
            "_model_module": "@jupyter-widgets/controls"
          }
        },
        "2e3de6e721db4cae841a0354fa987ffc": {
          "model_module": "@jupyter-widgets/base",
          "model_name": "LayoutModel",
          "model_module_version": "1.2.0",
          "state": {
            "_view_name": "LayoutView",
            "grid_template_rows": null,
            "right": null,
            "justify_content": null,
            "_view_module": "@jupyter-widgets/base",
            "overflow": null,
            "_model_module_version": "1.2.0",
            "_view_count": null,
            "flex_flow": null,
            "width": null,
            "min_width": null,
            "border": null,
            "align_items": null,
            "bottom": null,
            "_model_module": "@jupyter-widgets/base",
            "top": null,
            "grid_column": null,
            "overflow_y": null,
            "overflow_x": null,
            "grid_auto_flow": null,
            "grid_area": null,
            "grid_template_columns": null,
            "flex": null,
            "_model_name": "LayoutModel",
            "justify_items": null,
            "grid_row": null,
            "max_height": null,
            "align_content": null,
            "visibility": null,
            "align_self": null,
            "height": null,
            "min_height": null,
            "padding": null,
            "grid_auto_rows": null,
            "grid_gap": null,
            "max_width": null,
            "order": null,
            "_view_module_version": "1.2.0",
            "grid_template_areas": null,
            "object_position": null,
            "object_fit": null,
            "grid_auto_columns": null,
            "margin": null,
            "display": null,
            "left": null
          }
        },
        "6fd6887d5af44b19bd996ad3adb7cac8": {
          "model_module": "@jupyter-widgets/controls",
          "model_name": "DescriptionStyleModel",
          "model_module_version": "1.5.0",
          "state": {
            "_view_name": "StyleView",
            "_model_name": "DescriptionStyleModel",
            "description_width": "",
            "_view_module": "@jupyter-widgets/base",
            "_model_module_version": "1.5.0",
            "_view_count": null,
            "_view_module_version": "1.2.0",
            "_model_module": "@jupyter-widgets/controls"
          }
        },
        "a67581bcf29644a1bbbc3de2bab54519": {
          "model_module": "@jupyter-widgets/base",
          "model_name": "LayoutModel",
          "model_module_version": "1.2.0",
          "state": {
            "_view_name": "LayoutView",
            "grid_template_rows": null,
            "right": null,
            "justify_content": null,
            "_view_module": "@jupyter-widgets/base",
            "overflow": null,
            "_model_module_version": "1.2.0",
            "_view_count": null,
            "flex_flow": null,
            "width": null,
            "min_width": null,
            "border": null,
            "align_items": null,
            "bottom": null,
            "_model_module": "@jupyter-widgets/base",
            "top": null,
            "grid_column": null,
            "overflow_y": null,
            "overflow_x": null,
            "grid_auto_flow": null,
            "grid_area": null,
            "grid_template_columns": null,
            "flex": null,
            "_model_name": "LayoutModel",
            "justify_items": null,
            "grid_row": null,
            "max_height": null,
            "align_content": null,
            "visibility": null,
            "align_self": null,
            "height": null,
            "min_height": null,
            "padding": null,
            "grid_auto_rows": null,
            "grid_gap": null,
            "max_width": null,
            "order": null,
            "_view_module_version": "1.2.0",
            "grid_template_areas": null,
            "object_position": null,
            "object_fit": null,
            "grid_auto_columns": null,
            "margin": null,
            "display": null,
            "left": null
          }
        },
        "25eafa82fe594af69fe1edd111d18640": {
          "model_module": "@jupyter-widgets/controls",
          "model_name": "HBoxModel",
          "model_module_version": "1.5.0",
          "state": {
            "_view_name": "HBoxView",
            "_dom_classes": [],
            "_model_name": "HBoxModel",
            "_view_module": "@jupyter-widgets/controls",
            "_model_module_version": "1.5.0",
            "_view_count": null,
            "_view_module_version": "1.5.0",
            "box_style": "",
            "layout": "IPY_MODEL_2ca042e18fd343969d1ed5a8b26b4023",
            "_model_module": "@jupyter-widgets/controls",
            "children": [
              "IPY_MODEL_945e8e9f8a7542f58616bac8be914905",
              "IPY_MODEL_b28e77fe85a24d2aac9d24899ed31c46",
              "IPY_MODEL_32247076bfea442cbcc7727061b6b87e"
            ]
          }
        },
        "2ca042e18fd343969d1ed5a8b26b4023": {
          "model_module": "@jupyter-widgets/base",
          "model_name": "LayoutModel",
          "model_module_version": "1.2.0",
          "state": {
            "_view_name": "LayoutView",
            "grid_template_rows": null,
            "right": null,
            "justify_content": null,
            "_view_module": "@jupyter-widgets/base",
            "overflow": null,
            "_model_module_version": "1.2.0",
            "_view_count": null,
            "flex_flow": null,
            "width": null,
            "min_width": null,
            "border": null,
            "align_items": null,
            "bottom": null,
            "_model_module": "@jupyter-widgets/base",
            "top": null,
            "grid_column": null,
            "overflow_y": null,
            "overflow_x": null,
            "grid_auto_flow": null,
            "grid_area": null,
            "grid_template_columns": null,
            "flex": null,
            "_model_name": "LayoutModel",
            "justify_items": null,
            "grid_row": null,
            "max_height": null,
            "align_content": null,
            "visibility": null,
            "align_self": null,
            "height": null,
            "min_height": null,
            "padding": null,
            "grid_auto_rows": null,
            "grid_gap": null,
            "max_width": null,
            "order": null,
            "_view_module_version": "1.2.0",
            "grid_template_areas": null,
            "object_position": null,
            "object_fit": null,
            "grid_auto_columns": null,
            "margin": null,
            "display": null,
            "left": null
          }
        },
        "945e8e9f8a7542f58616bac8be914905": {
          "model_module": "@jupyter-widgets/controls",
          "model_name": "HTMLModel",
          "model_module_version": "1.5.0",
          "state": {
            "_view_name": "HTMLView",
            "style": "IPY_MODEL_7438a8ba66dd48e3a636dc2fd5bc5bcd",
            "_dom_classes": [],
            "description": "",
            "_model_name": "HTMLModel",
            "placeholder": "​",
            "_view_module": "@jupyter-widgets/controls",
            "_model_module_version": "1.5.0",
            "value": "",
            "_view_count": null,
            "_view_module_version": "1.5.0",
            "description_tooltip": null,
            "_model_module": "@jupyter-widgets/controls",
            "layout": "IPY_MODEL_89d1a4ec62ac4e0cb4c3a02e6d4d5e42"
          }
        },
        "b28e77fe85a24d2aac9d24899ed31c46": {
          "model_module": "@jupyter-widgets/controls",
          "model_name": "FloatProgressModel",
          "model_module_version": "1.5.0",
          "state": {
            "_view_name": "ProgressView",
            "style": "IPY_MODEL_2be6d6fe50424639af17036a6c8d4323",
            "_dom_classes": [],
            "description": "",
            "_model_name": "FloatProgressModel",
            "bar_style": "success",
            "max": 28881,
            "_view_module": "@jupyter-widgets/controls",
            "_model_module_version": "1.5.0",
            "value": 28881,
            "_view_count": null,
            "_view_module_version": "1.5.0",
            "orientation": "horizontal",
            "min": 0,
            "description_tooltip": null,
            "_model_module": "@jupyter-widgets/controls",
            "layout": "IPY_MODEL_85f42d0d8cb34077905ad44ada5734ba"
          }
        },
        "32247076bfea442cbcc7727061b6b87e": {
          "model_module": "@jupyter-widgets/controls",
          "model_name": "HTMLModel",
          "model_module_version": "1.5.0",
          "state": {
            "_view_name": "HTMLView",
            "style": "IPY_MODEL_c6f3b317df2642cfbc19108cb831a690",
            "_dom_classes": [],
            "description": "",
            "_model_name": "HTMLModel",
            "placeholder": "​",
            "_view_module": "@jupyter-widgets/controls",
            "_model_module_version": "1.5.0",
            "value": " 29696/? [00:00&lt;00:00, 674618.03it/s]",
            "_view_count": null,
            "_view_module_version": "1.5.0",
            "description_tooltip": null,
            "_model_module": "@jupyter-widgets/controls",
            "layout": "IPY_MODEL_622dabc9ba4641a895fd758b609bd9c1"
          }
        },
        "7438a8ba66dd48e3a636dc2fd5bc5bcd": {
          "model_module": "@jupyter-widgets/controls",
          "model_name": "DescriptionStyleModel",
          "model_module_version": "1.5.0",
          "state": {
            "_view_name": "StyleView",
            "_model_name": "DescriptionStyleModel",
            "description_width": "",
            "_view_module": "@jupyter-widgets/base",
            "_model_module_version": "1.5.0",
            "_view_count": null,
            "_view_module_version": "1.2.0",
            "_model_module": "@jupyter-widgets/controls"
          }
        },
        "89d1a4ec62ac4e0cb4c3a02e6d4d5e42": {
          "model_module": "@jupyter-widgets/base",
          "model_name": "LayoutModel",
          "model_module_version": "1.2.0",
          "state": {
            "_view_name": "LayoutView",
            "grid_template_rows": null,
            "right": null,
            "justify_content": null,
            "_view_module": "@jupyter-widgets/base",
            "overflow": null,
            "_model_module_version": "1.2.0",
            "_view_count": null,
            "flex_flow": null,
            "width": null,
            "min_width": null,
            "border": null,
            "align_items": null,
            "bottom": null,
            "_model_module": "@jupyter-widgets/base",
            "top": null,
            "grid_column": null,
            "overflow_y": null,
            "overflow_x": null,
            "grid_auto_flow": null,
            "grid_area": null,
            "grid_template_columns": null,
            "flex": null,
            "_model_name": "LayoutModel",
            "justify_items": null,
            "grid_row": null,
            "max_height": null,
            "align_content": null,
            "visibility": null,
            "align_self": null,
            "height": null,
            "min_height": null,
            "padding": null,
            "grid_auto_rows": null,
            "grid_gap": null,
            "max_width": null,
            "order": null,
            "_view_module_version": "1.2.0",
            "grid_template_areas": null,
            "object_position": null,
            "object_fit": null,
            "grid_auto_columns": null,
            "margin": null,
            "display": null,
            "left": null
          }
        },
        "2be6d6fe50424639af17036a6c8d4323": {
          "model_module": "@jupyter-widgets/controls",
          "model_name": "ProgressStyleModel",
          "model_module_version": "1.5.0",
          "state": {
            "_view_name": "StyleView",
            "_model_name": "ProgressStyleModel",
            "description_width": "",
            "_view_module": "@jupyter-widgets/base",
            "_model_module_version": "1.5.0",
            "_view_count": null,
            "_view_module_version": "1.2.0",
            "bar_color": null,
            "_model_module": "@jupyter-widgets/controls"
          }
        },
        "85f42d0d8cb34077905ad44ada5734ba": {
          "model_module": "@jupyter-widgets/base",
          "model_name": "LayoutModel",
          "model_module_version": "1.2.0",
          "state": {
            "_view_name": "LayoutView",
            "grid_template_rows": null,
            "right": null,
            "justify_content": null,
            "_view_module": "@jupyter-widgets/base",
            "overflow": null,
            "_model_module_version": "1.2.0",
            "_view_count": null,
            "flex_flow": null,
            "width": null,
            "min_width": null,
            "border": null,
            "align_items": null,
            "bottom": null,
            "_model_module": "@jupyter-widgets/base",
            "top": null,
            "grid_column": null,
            "overflow_y": null,
            "overflow_x": null,
            "grid_auto_flow": null,
            "grid_area": null,
            "grid_template_columns": null,
            "flex": null,
            "_model_name": "LayoutModel",
            "justify_items": null,
            "grid_row": null,
            "max_height": null,
            "align_content": null,
            "visibility": null,
            "align_self": null,
            "height": null,
            "min_height": null,
            "padding": null,
            "grid_auto_rows": null,
            "grid_gap": null,
            "max_width": null,
            "order": null,
            "_view_module_version": "1.2.0",
            "grid_template_areas": null,
            "object_position": null,
            "object_fit": null,
            "grid_auto_columns": null,
            "margin": null,
            "display": null,
            "left": null
          }
        },
        "c6f3b317df2642cfbc19108cb831a690": {
          "model_module": "@jupyter-widgets/controls",
          "model_name": "DescriptionStyleModel",
          "model_module_version": "1.5.0",
          "state": {
            "_view_name": "StyleView",
            "_model_name": "DescriptionStyleModel",
            "description_width": "",
            "_view_module": "@jupyter-widgets/base",
            "_model_module_version": "1.5.0",
            "_view_count": null,
            "_view_module_version": "1.2.0",
            "_model_module": "@jupyter-widgets/controls"
          }
        },
        "622dabc9ba4641a895fd758b609bd9c1": {
          "model_module": "@jupyter-widgets/base",
          "model_name": "LayoutModel",
          "model_module_version": "1.2.0",
          "state": {
            "_view_name": "LayoutView",
            "grid_template_rows": null,
            "right": null,
            "justify_content": null,
            "_view_module": "@jupyter-widgets/base",
            "overflow": null,
            "_model_module_version": "1.2.0",
            "_view_count": null,
            "flex_flow": null,
            "width": null,
            "min_width": null,
            "border": null,
            "align_items": null,
            "bottom": null,
            "_model_module": "@jupyter-widgets/base",
            "top": null,
            "grid_column": null,
            "overflow_y": null,
            "overflow_x": null,
            "grid_auto_flow": null,
            "grid_area": null,
            "grid_template_columns": null,
            "flex": null,
            "_model_name": "LayoutModel",
            "justify_items": null,
            "grid_row": null,
            "max_height": null,
            "align_content": null,
            "visibility": null,
            "align_self": null,
            "height": null,
            "min_height": null,
            "padding": null,
            "grid_auto_rows": null,
            "grid_gap": null,
            "max_width": null,
            "order": null,
            "_view_module_version": "1.2.0",
            "grid_template_areas": null,
            "object_position": null,
            "object_fit": null,
            "grid_auto_columns": null,
            "margin": null,
            "display": null,
            "left": null
          }
        },
        "efa84812f68d4ca19c53b39777f38b88": {
          "model_module": "@jupyter-widgets/controls",
          "model_name": "HBoxModel",
          "model_module_version": "1.5.0",
          "state": {
            "_view_name": "HBoxView",
            "_dom_classes": [],
            "_model_name": "HBoxModel",
            "_view_module": "@jupyter-widgets/controls",
            "_model_module_version": "1.5.0",
            "_view_count": null,
            "_view_module_version": "1.5.0",
            "box_style": "",
            "layout": "IPY_MODEL_96872fa2f61348199cd4aa386a359e2c",
            "_model_module": "@jupyter-widgets/controls",
            "children": [
              "IPY_MODEL_902eaba5439840c3b42686288da9dcd4",
              "IPY_MODEL_1ac8c8796b3b4eab8b7281f0d8512228",
              "IPY_MODEL_69770c1a2c0142faac8bb157c61a2c14"
            ]
          }
        },
        "96872fa2f61348199cd4aa386a359e2c": {
          "model_module": "@jupyter-widgets/base",
          "model_name": "LayoutModel",
          "model_module_version": "1.2.0",
          "state": {
            "_view_name": "LayoutView",
            "grid_template_rows": null,
            "right": null,
            "justify_content": null,
            "_view_module": "@jupyter-widgets/base",
            "overflow": null,
            "_model_module_version": "1.2.0",
            "_view_count": null,
            "flex_flow": null,
            "width": null,
            "min_width": null,
            "border": null,
            "align_items": null,
            "bottom": null,
            "_model_module": "@jupyter-widgets/base",
            "top": null,
            "grid_column": null,
            "overflow_y": null,
            "overflow_x": null,
            "grid_auto_flow": null,
            "grid_area": null,
            "grid_template_columns": null,
            "flex": null,
            "_model_name": "LayoutModel",
            "justify_items": null,
            "grid_row": null,
            "max_height": null,
            "align_content": null,
            "visibility": null,
            "align_self": null,
            "height": null,
            "min_height": null,
            "padding": null,
            "grid_auto_rows": null,
            "grid_gap": null,
            "max_width": null,
            "order": null,
            "_view_module_version": "1.2.0",
            "grid_template_areas": null,
            "object_position": null,
            "object_fit": null,
            "grid_auto_columns": null,
            "margin": null,
            "display": null,
            "left": null
          }
        },
        "902eaba5439840c3b42686288da9dcd4": {
          "model_module": "@jupyter-widgets/controls",
          "model_name": "HTMLModel",
          "model_module_version": "1.5.0",
          "state": {
            "_view_name": "HTMLView",
            "style": "IPY_MODEL_f66168ab3eed4019ae7ff401f2602193",
            "_dom_classes": [],
            "description": "",
            "_model_name": "HTMLModel",
            "placeholder": "​",
            "_view_module": "@jupyter-widgets/controls",
            "_model_module_version": "1.5.0",
            "value": "",
            "_view_count": null,
            "_view_module_version": "1.5.0",
            "description_tooltip": null,
            "_model_module": "@jupyter-widgets/controls",
            "layout": "IPY_MODEL_ec6e3cb300054fddb2908abe24860241"
          }
        },
        "1ac8c8796b3b4eab8b7281f0d8512228": {
          "model_module": "@jupyter-widgets/controls",
          "model_name": "FloatProgressModel",
          "model_module_version": "1.5.0",
          "state": {
            "_view_name": "ProgressView",
            "style": "IPY_MODEL_87c9772ea6ec43718b5b930d9f4f49ed",
            "_dom_classes": [],
            "description": "",
            "_model_name": "FloatProgressModel",
            "bar_style": "success",
            "max": 1648877,
            "_view_module": "@jupyter-widgets/controls",
            "_model_module_version": "1.5.0",
            "value": 1648877,
            "_view_count": null,
            "_view_module_version": "1.5.0",
            "orientation": "horizontal",
            "min": 0,
            "description_tooltip": null,
            "_model_module": "@jupyter-widgets/controls",
            "layout": "IPY_MODEL_4e10c1a4ead3491cbf21b9251d7cce5f"
          }
        },
        "69770c1a2c0142faac8bb157c61a2c14": {
          "model_module": "@jupyter-widgets/controls",
          "model_name": "HTMLModel",
          "model_module_version": "1.5.0",
          "state": {
            "_view_name": "HTMLView",
            "style": "IPY_MODEL_1693c14634eb4de5bc2e350627aaf895",
            "_dom_classes": [],
            "description": "",
            "_model_name": "HTMLModel",
            "placeholder": "​",
            "_view_module": "@jupyter-widgets/controls",
            "_model_module_version": "1.5.0",
            "value": " 1649664/? [00:00&lt;00:00, 3316578.92it/s]",
            "_view_count": null,
            "_view_module_version": "1.5.0",
            "description_tooltip": null,
            "_model_module": "@jupyter-widgets/controls",
            "layout": "IPY_MODEL_75b1b0fcfae5410d86eb42121c7db8b3"
          }
        },
        "f66168ab3eed4019ae7ff401f2602193": {
          "model_module": "@jupyter-widgets/controls",
          "model_name": "DescriptionStyleModel",
          "model_module_version": "1.5.0",
          "state": {
            "_view_name": "StyleView",
            "_model_name": "DescriptionStyleModel",
            "description_width": "",
            "_view_module": "@jupyter-widgets/base",
            "_model_module_version": "1.5.0",
            "_view_count": null,
            "_view_module_version": "1.2.0",
            "_model_module": "@jupyter-widgets/controls"
          }
        },
        "ec6e3cb300054fddb2908abe24860241": {
          "model_module": "@jupyter-widgets/base",
          "model_name": "LayoutModel",
          "model_module_version": "1.2.0",
          "state": {
            "_view_name": "LayoutView",
            "grid_template_rows": null,
            "right": null,
            "justify_content": null,
            "_view_module": "@jupyter-widgets/base",
            "overflow": null,
            "_model_module_version": "1.2.0",
            "_view_count": null,
            "flex_flow": null,
            "width": null,
            "min_width": null,
            "border": null,
            "align_items": null,
            "bottom": null,
            "_model_module": "@jupyter-widgets/base",
            "top": null,
            "grid_column": null,
            "overflow_y": null,
            "overflow_x": null,
            "grid_auto_flow": null,
            "grid_area": null,
            "grid_template_columns": null,
            "flex": null,
            "_model_name": "LayoutModel",
            "justify_items": null,
            "grid_row": null,
            "max_height": null,
            "align_content": null,
            "visibility": null,
            "align_self": null,
            "height": null,
            "min_height": null,
            "padding": null,
            "grid_auto_rows": null,
            "grid_gap": null,
            "max_width": null,
            "order": null,
            "_view_module_version": "1.2.0",
            "grid_template_areas": null,
            "object_position": null,
            "object_fit": null,
            "grid_auto_columns": null,
            "margin": null,
            "display": null,
            "left": null
          }
        },
        "87c9772ea6ec43718b5b930d9f4f49ed": {
          "model_module": "@jupyter-widgets/controls",
          "model_name": "ProgressStyleModel",
          "model_module_version": "1.5.0",
          "state": {
            "_view_name": "StyleView",
            "_model_name": "ProgressStyleModel",
            "description_width": "",
            "_view_module": "@jupyter-widgets/base",
            "_model_module_version": "1.5.0",
            "_view_count": null,
            "_view_module_version": "1.2.0",
            "bar_color": null,
            "_model_module": "@jupyter-widgets/controls"
          }
        },
        "4e10c1a4ead3491cbf21b9251d7cce5f": {
          "model_module": "@jupyter-widgets/base",
          "model_name": "LayoutModel",
          "model_module_version": "1.2.0",
          "state": {
            "_view_name": "LayoutView",
            "grid_template_rows": null,
            "right": null,
            "justify_content": null,
            "_view_module": "@jupyter-widgets/base",
            "overflow": null,
            "_model_module_version": "1.2.0",
            "_view_count": null,
            "flex_flow": null,
            "width": null,
            "min_width": null,
            "border": null,
            "align_items": null,
            "bottom": null,
            "_model_module": "@jupyter-widgets/base",
            "top": null,
            "grid_column": null,
            "overflow_y": null,
            "overflow_x": null,
            "grid_auto_flow": null,
            "grid_area": null,
            "grid_template_columns": null,
            "flex": null,
            "_model_name": "LayoutModel",
            "justify_items": null,
            "grid_row": null,
            "max_height": null,
            "align_content": null,
            "visibility": null,
            "align_self": null,
            "height": null,
            "min_height": null,
            "padding": null,
            "grid_auto_rows": null,
            "grid_gap": null,
            "max_width": null,
            "order": null,
            "_view_module_version": "1.2.0",
            "grid_template_areas": null,
            "object_position": null,
            "object_fit": null,
            "grid_auto_columns": null,
            "margin": null,
            "display": null,
            "left": null
          }
        },
        "1693c14634eb4de5bc2e350627aaf895": {
          "model_module": "@jupyter-widgets/controls",
          "model_name": "DescriptionStyleModel",
          "model_module_version": "1.5.0",
          "state": {
            "_view_name": "StyleView",
            "_model_name": "DescriptionStyleModel",
            "description_width": "",
            "_view_module": "@jupyter-widgets/base",
            "_model_module_version": "1.5.0",
            "_view_count": null,
            "_view_module_version": "1.2.0",
            "_model_module": "@jupyter-widgets/controls"
          }
        },
        "75b1b0fcfae5410d86eb42121c7db8b3": {
          "model_module": "@jupyter-widgets/base",
          "model_name": "LayoutModel",
          "model_module_version": "1.2.0",
          "state": {
            "_view_name": "LayoutView",
            "grid_template_rows": null,
            "right": null,
            "justify_content": null,
            "_view_module": "@jupyter-widgets/base",
            "overflow": null,
            "_model_module_version": "1.2.0",
            "_view_count": null,
            "flex_flow": null,
            "width": null,
            "min_width": null,
            "border": null,
            "align_items": null,
            "bottom": null,
            "_model_module": "@jupyter-widgets/base",
            "top": null,
            "grid_column": null,
            "overflow_y": null,
            "overflow_x": null,
            "grid_auto_flow": null,
            "grid_area": null,
            "grid_template_columns": null,
            "flex": null,
            "_model_name": "LayoutModel",
            "justify_items": null,
            "grid_row": null,
            "max_height": null,
            "align_content": null,
            "visibility": null,
            "align_self": null,
            "height": null,
            "min_height": null,
            "padding": null,
            "grid_auto_rows": null,
            "grid_gap": null,
            "max_width": null,
            "order": null,
            "_view_module_version": "1.2.0",
            "grid_template_areas": null,
            "object_position": null,
            "object_fit": null,
            "grid_auto_columns": null,
            "margin": null,
            "display": null,
            "left": null
          }
        },
        "c9905f6317324f579480407e4d1aea67": {
          "model_module": "@jupyter-widgets/controls",
          "model_name": "HBoxModel",
          "model_module_version": "1.5.0",
          "state": {
            "_view_name": "HBoxView",
            "_dom_classes": [],
            "_model_name": "HBoxModel",
            "_view_module": "@jupyter-widgets/controls",
            "_model_module_version": "1.5.0",
            "_view_count": null,
            "_view_module_version": "1.5.0",
            "box_style": "",
            "layout": "IPY_MODEL_8524a857787e4761a533fa7b75932f53",
            "_model_module": "@jupyter-widgets/controls",
            "children": [
              "IPY_MODEL_261df106da7842409f4b89cffa8f749c",
              "IPY_MODEL_62c0724fd0cc48118adcac4397121657",
              "IPY_MODEL_e7f50b1e33414af59f28da73858ad609"
            ]
          }
        },
        "8524a857787e4761a533fa7b75932f53": {
          "model_module": "@jupyter-widgets/base",
          "model_name": "LayoutModel",
          "model_module_version": "1.2.0",
          "state": {
            "_view_name": "LayoutView",
            "grid_template_rows": null,
            "right": null,
            "justify_content": null,
            "_view_module": "@jupyter-widgets/base",
            "overflow": null,
            "_model_module_version": "1.2.0",
            "_view_count": null,
            "flex_flow": null,
            "width": null,
            "min_width": null,
            "border": null,
            "align_items": null,
            "bottom": null,
            "_model_module": "@jupyter-widgets/base",
            "top": null,
            "grid_column": null,
            "overflow_y": null,
            "overflow_x": null,
            "grid_auto_flow": null,
            "grid_area": null,
            "grid_template_columns": null,
            "flex": null,
            "_model_name": "LayoutModel",
            "justify_items": null,
            "grid_row": null,
            "max_height": null,
            "align_content": null,
            "visibility": null,
            "align_self": null,
            "height": null,
            "min_height": null,
            "padding": null,
            "grid_auto_rows": null,
            "grid_gap": null,
            "max_width": null,
            "order": null,
            "_view_module_version": "1.2.0",
            "grid_template_areas": null,
            "object_position": null,
            "object_fit": null,
            "grid_auto_columns": null,
            "margin": null,
            "display": null,
            "left": null
          }
        },
        "261df106da7842409f4b89cffa8f749c": {
          "model_module": "@jupyter-widgets/controls",
          "model_name": "HTMLModel",
          "model_module_version": "1.5.0",
          "state": {
            "_view_name": "HTMLView",
            "style": "IPY_MODEL_fdfa6369d0324832b6c77bf1cc62039f",
            "_dom_classes": [],
            "description": "",
            "_model_name": "HTMLModel",
            "placeholder": "​",
            "_view_module": "@jupyter-widgets/controls",
            "_model_module_version": "1.5.0",
            "value": "",
            "_view_count": null,
            "_view_module_version": "1.5.0",
            "description_tooltip": null,
            "_model_module": "@jupyter-widgets/controls",
            "layout": "IPY_MODEL_269a9e6fa2b64db88c16122db66829a7"
          }
        },
        "62c0724fd0cc48118adcac4397121657": {
          "model_module": "@jupyter-widgets/controls",
          "model_name": "FloatProgressModel",
          "model_module_version": "1.5.0",
          "state": {
            "_view_name": "ProgressView",
            "style": "IPY_MODEL_fce7e20aa28a4b858b9847a4c1f0a333",
            "_dom_classes": [],
            "description": "",
            "_model_name": "FloatProgressModel",
            "bar_style": "success",
            "max": 4542,
            "_view_module": "@jupyter-widgets/controls",
            "_model_module_version": "1.5.0",
            "value": 4542,
            "_view_count": null,
            "_view_module_version": "1.5.0",
            "orientation": "horizontal",
            "min": 0,
            "description_tooltip": null,
            "_model_module": "@jupyter-widgets/controls",
            "layout": "IPY_MODEL_634e295042064c99b3f1e58c1d4cc9c9"
          }
        },
        "e7f50b1e33414af59f28da73858ad609": {
          "model_module": "@jupyter-widgets/controls",
          "model_name": "HTMLModel",
          "model_module_version": "1.5.0",
          "state": {
            "_view_name": "HTMLView",
            "style": "IPY_MODEL_f6f058d9e95b404ebd058377d33d3cc7",
            "_dom_classes": [],
            "description": "",
            "_model_name": "HTMLModel",
            "placeholder": "​",
            "_view_module": "@jupyter-widgets/controls",
            "_model_module_version": "1.5.0",
            "value": " 5120/? [00:00&lt;00:00, 140983.16it/s]",
            "_view_count": null,
            "_view_module_version": "1.5.0",
            "description_tooltip": null,
            "_model_module": "@jupyter-widgets/controls",
            "layout": "IPY_MODEL_820adc16780e4a2cbc9f36f827b67ac8"
          }
        },
        "fdfa6369d0324832b6c77bf1cc62039f": {
          "model_module": "@jupyter-widgets/controls",
          "model_name": "DescriptionStyleModel",
          "model_module_version": "1.5.0",
          "state": {
            "_view_name": "StyleView",
            "_model_name": "DescriptionStyleModel",
            "description_width": "",
            "_view_module": "@jupyter-widgets/base",
            "_model_module_version": "1.5.0",
            "_view_count": null,
            "_view_module_version": "1.2.0",
            "_model_module": "@jupyter-widgets/controls"
          }
        },
        "269a9e6fa2b64db88c16122db66829a7": {
          "model_module": "@jupyter-widgets/base",
          "model_name": "LayoutModel",
          "model_module_version": "1.2.0",
          "state": {
            "_view_name": "LayoutView",
            "grid_template_rows": null,
            "right": null,
            "justify_content": null,
            "_view_module": "@jupyter-widgets/base",
            "overflow": null,
            "_model_module_version": "1.2.0",
            "_view_count": null,
            "flex_flow": null,
            "width": null,
            "min_width": null,
            "border": null,
            "align_items": null,
            "bottom": null,
            "_model_module": "@jupyter-widgets/base",
            "top": null,
            "grid_column": null,
            "overflow_y": null,
            "overflow_x": null,
            "grid_auto_flow": null,
            "grid_area": null,
            "grid_template_columns": null,
            "flex": null,
            "_model_name": "LayoutModel",
            "justify_items": null,
            "grid_row": null,
            "max_height": null,
            "align_content": null,
            "visibility": null,
            "align_self": null,
            "height": null,
            "min_height": null,
            "padding": null,
            "grid_auto_rows": null,
            "grid_gap": null,
            "max_width": null,
            "order": null,
            "_view_module_version": "1.2.0",
            "grid_template_areas": null,
            "object_position": null,
            "object_fit": null,
            "grid_auto_columns": null,
            "margin": null,
            "display": null,
            "left": null
          }
        },
        "fce7e20aa28a4b858b9847a4c1f0a333": {
          "model_module": "@jupyter-widgets/controls",
          "model_name": "ProgressStyleModel",
          "model_module_version": "1.5.0",
          "state": {
            "_view_name": "StyleView",
            "_model_name": "ProgressStyleModel",
            "description_width": "",
            "_view_module": "@jupyter-widgets/base",
            "_model_module_version": "1.5.0",
            "_view_count": null,
            "_view_module_version": "1.2.0",
            "bar_color": null,
            "_model_module": "@jupyter-widgets/controls"
          }
        },
        "634e295042064c99b3f1e58c1d4cc9c9": {
          "model_module": "@jupyter-widgets/base",
          "model_name": "LayoutModel",
          "model_module_version": "1.2.0",
          "state": {
            "_view_name": "LayoutView",
            "grid_template_rows": null,
            "right": null,
            "justify_content": null,
            "_view_module": "@jupyter-widgets/base",
            "overflow": null,
            "_model_module_version": "1.2.0",
            "_view_count": null,
            "flex_flow": null,
            "width": null,
            "min_width": null,
            "border": null,
            "align_items": null,
            "bottom": null,
            "_model_module": "@jupyter-widgets/base",
            "top": null,
            "grid_column": null,
            "overflow_y": null,
            "overflow_x": null,
            "grid_auto_flow": null,
            "grid_area": null,
            "grid_template_columns": null,
            "flex": null,
            "_model_name": "LayoutModel",
            "justify_items": null,
            "grid_row": null,
            "max_height": null,
            "align_content": null,
            "visibility": null,
            "align_self": null,
            "height": null,
            "min_height": null,
            "padding": null,
            "grid_auto_rows": null,
            "grid_gap": null,
            "max_width": null,
            "order": null,
            "_view_module_version": "1.2.0",
            "grid_template_areas": null,
            "object_position": null,
            "object_fit": null,
            "grid_auto_columns": null,
            "margin": null,
            "display": null,
            "left": null
          }
        },
        "f6f058d9e95b404ebd058377d33d3cc7": {
          "model_module": "@jupyter-widgets/controls",
          "model_name": "DescriptionStyleModel",
          "model_module_version": "1.5.0",
          "state": {
            "_view_name": "StyleView",
            "_model_name": "DescriptionStyleModel",
            "description_width": "",
            "_view_module": "@jupyter-widgets/base",
            "_model_module_version": "1.5.0",
            "_view_count": null,
            "_view_module_version": "1.2.0",
            "_model_module": "@jupyter-widgets/controls"
          }
        },
        "820adc16780e4a2cbc9f36f827b67ac8": {
          "model_module": "@jupyter-widgets/base",
          "model_name": "LayoutModel",
          "model_module_version": "1.2.0",
          "state": {
            "_view_name": "LayoutView",
            "grid_template_rows": null,
            "right": null,
            "justify_content": null,
            "_view_module": "@jupyter-widgets/base",
            "overflow": null,
            "_model_module_version": "1.2.0",
            "_view_count": null,
            "flex_flow": null,
            "width": null,
            "min_width": null,
            "border": null,
            "align_items": null,
            "bottom": null,
            "_model_module": "@jupyter-widgets/base",
            "top": null,
            "grid_column": null,
            "overflow_y": null,
            "overflow_x": null,
            "grid_auto_flow": null,
            "grid_area": null,
            "grid_template_columns": null,
            "flex": null,
            "_model_name": "LayoutModel",
            "justify_items": null,
            "grid_row": null,
            "max_height": null,
            "align_content": null,
            "visibility": null,
            "align_self": null,
            "height": null,
            "min_height": null,
            "padding": null,
            "grid_auto_rows": null,
            "grid_gap": null,
            "max_width": null,
            "order": null,
            "_view_module_version": "1.2.0",
            "grid_template_areas": null,
            "object_position": null,
            "object_fit": null,
            "grid_auto_columns": null,
            "margin": null,
            "display": null,
            "left": null
          }
        }
      }
    }
  },
  "cells": [
    {
      "cell_type": "markdown",
      "metadata": {
        "id": "view-in-github",
        "colab_type": "text"
      },
      "source": [
        "<a href=\"https://colab.research.google.com/github/EmiTR/MasterProject-ET/blob/main/ET_MNIST_GAN_WithText.ipynb\" target=\"_parent\"><img src=\"https://colab.research.google.com/assets/colab-badge.svg\" alt=\"Open In Colab\"/></a>"
      ]
    },
    {
      "cell_type": "markdown",
      "metadata": {
        "id": "GAgBow1y2b5A"
      },
      "source": [
        "In this notebook, I will implement Generative Adversarial Nets (GAN) from [Generative Adversarial Nets](https://arxiv.org/pdf/1406.2661.pdf). "
      ]
    },
    {
      "cell_type": "markdown",
      "source": [
        "The dataset I use for this notebook and for other GAN-notebooks is MNIST (Modified National Institute of Standards and Technology) of handwritten digits in black and white."
      ],
      "metadata": {
        "id": "kMj7TLWdITck"
      }
    },
    {
      "cell_type": "markdown",
      "metadata": {
        "id": "0_YmAA1-TLto"
      },
      "source": [
        "To use GPU for this notebook in Colab: Runtime -> Change Runtime Type -> GPU"
      ]
    },
    {
      "cell_type": "markdown",
      "metadata": {
        "id": "oqYWbrjglYou"
      },
      "source": [
        "# Setup"
      ]
    },
    {
      "cell_type": "code",
      "source": [
        "# Packages for GAN\n",
        "import torchvision.transforms as transforms \n",
        "from torchvision.utils import save_image\n",
        "from torch.utils.data import DataLoader\n",
        "from torchvision import datasets\n",
        "from torch.autograd import Variable\n",
        "import torch.nn as nn\n",
        "import torch\n",
        "import torchvision\n",
        "\n",
        "# Supporting packages\n",
        "import numpy as np\n",
        "from time import time\n",
        "import matplotlib.pyplot as plt"
      ],
      "metadata": {
        "id": "xxl0hlBmjCK0"
      },
      "execution_count": 2,
      "outputs": []
    },
    {
      "cell_type": "markdown",
      "source": [
        "GAN is very sensitive to changes of hyperparameter. Try diffirent combinations for better results!"
      ],
      "metadata": {
        "id": "6LMpN6Y0aWsI"
      }
    },
    {
      "cell_type": "code",
      "source": [
        "DIM = 10\n",
        "NUM_EPOCHS = 100\n",
        "BATCH_SIZE = DIM*DIM\n",
        "LEARNING_RATE = 0.0002 #try diffirent learning rate \n",
        "Z_DIM = 100 #also try 28, 64, etc.\n",
        "HIDDEN_DIM = 64\n",
        "IMG_SIZE = 28 \n",
        "IM_CHANNELS = 1 #MNIST data is black and white > channel = 1. For colored images: channels = 3\n",
        "img_shape = (IM_CHANNELS, IMG_SIZE, IMG_SIZE) #1,28,28"
      ],
      "metadata": {
        "id": "bhrhiD6gRhEN"
      },
      "execution_count": 21,
      "outputs": []
    },
    {
      "cell_type": "code",
      "source": [
        "#checking device\n",
        "device = \"cuda\" if torch.cuda.is_available() else \"cpu\"\n",
        "print(device)"
      ],
      "metadata": {
        "colab": {
          "base_uri": "https://localhost:8080/"
        },
        "id": "t7CBLQEgl6Az",
        "outputId": "e32d2f1e-de24-469a-b099-ab47bf8092ca"
      },
      "execution_count": 5,
      "outputs": [
        {
          "output_type": "stream",
          "name": "stdout",
          "text": [
            "cuda\n"
          ]
        }
      ]
    },
    {
      "cell_type": "markdown",
      "source": [
        "# Getting data"
      ],
      "metadata": {
        "id": "CbpQRuBvVyOH"
      }
    },
    {
      "cell_type": "code",
      "source": [
        "transform = transforms.Compose([\n",
        "                                transforms.ToTensor(), \n",
        "                                transforms.Normalize((0.5,), (0.5,)),\n",
        "])\n",
        "\n",
        "dataloader = DataLoader(\n",
        "    datasets.MNIST('.', download=True, transform=transform),\n",
        "    batch_size=BATCH_SIZE,\n",
        "    shuffle=True)"
      ],
      "metadata": {
        "colab": {
          "base_uri": "https://localhost:8080/",
          "height": 423,
          "referenced_widgets": [
            "df50d5edf6514901af54ba8396f22bfb",
            "1a26e0d6843542b3984af615c08f0b60",
            "7ac8fade90fc4776bc377fcec09fb18f",
            "39c8e96123a74ce2891f3425553d3326",
            "59a1d72213d146b4bd4845a45ca927fb",
            "9977882ff17e4f879f41de12bbb2b9f3",
            "0c3b538d2bfd42acb1e45d65e276e897",
            "58dc567095674251890ec074d57bbfb8",
            "2e3de6e721db4cae841a0354fa987ffc",
            "6fd6887d5af44b19bd996ad3adb7cac8",
            "a67581bcf29644a1bbbc3de2bab54519",
            "25eafa82fe594af69fe1edd111d18640",
            "2ca042e18fd343969d1ed5a8b26b4023",
            "945e8e9f8a7542f58616bac8be914905",
            "b28e77fe85a24d2aac9d24899ed31c46",
            "32247076bfea442cbcc7727061b6b87e",
            "7438a8ba66dd48e3a636dc2fd5bc5bcd",
            "89d1a4ec62ac4e0cb4c3a02e6d4d5e42",
            "2be6d6fe50424639af17036a6c8d4323",
            "85f42d0d8cb34077905ad44ada5734ba",
            "c6f3b317df2642cfbc19108cb831a690",
            "622dabc9ba4641a895fd758b609bd9c1",
            "efa84812f68d4ca19c53b39777f38b88",
            "96872fa2f61348199cd4aa386a359e2c",
            "902eaba5439840c3b42686288da9dcd4",
            "1ac8c8796b3b4eab8b7281f0d8512228",
            "69770c1a2c0142faac8bb157c61a2c14",
            "f66168ab3eed4019ae7ff401f2602193",
            "ec6e3cb300054fddb2908abe24860241",
            "87c9772ea6ec43718b5b930d9f4f49ed",
            "4e10c1a4ead3491cbf21b9251d7cce5f",
            "1693c14634eb4de5bc2e350627aaf895",
            "75b1b0fcfae5410d86eb42121c7db8b3",
            "c9905f6317324f579480407e4d1aea67",
            "8524a857787e4761a533fa7b75932f53",
            "261df106da7842409f4b89cffa8f749c",
            "62c0724fd0cc48118adcac4397121657",
            "e7f50b1e33414af59f28da73858ad609",
            "fdfa6369d0324832b6c77bf1cc62039f",
            "269a9e6fa2b64db88c16122db66829a7",
            "fce7e20aa28a4b858b9847a4c1f0a333",
            "634e295042064c99b3f1e58c1d4cc9c9",
            "f6f058d9e95b404ebd058377d33d3cc7",
            "820adc16780e4a2cbc9f36f827b67ac8"
          ]
        },
        "id": "k7xgXL_BQ8yL",
        "outputId": "43ae9436-46eb-4a3d-da8e-569d9bbccf58"
      },
      "execution_count": 6,
      "outputs": [
        {
          "output_type": "stream",
          "name": "stdout",
          "text": [
            "Downloading http://yann.lecun.com/exdb/mnist/train-images-idx3-ubyte.gz\n",
            "Downloading http://yann.lecun.com/exdb/mnist/train-images-idx3-ubyte.gz to ./MNIST/raw/train-images-idx3-ubyte.gz\n"
          ]
        },
        {
          "output_type": "display_data",
          "data": {
            "application/vnd.jupyter.widget-view+json": {
              "model_id": "df50d5edf6514901af54ba8396f22bfb",
              "version_minor": 0,
              "version_major": 2
            },
            "text/plain": [
              "  0%|          | 0/9912422 [00:00<?, ?it/s]"
            ]
          },
          "metadata": {}
        },
        {
          "output_type": "stream",
          "name": "stdout",
          "text": [
            "Extracting ./MNIST/raw/train-images-idx3-ubyte.gz to ./MNIST/raw\n",
            "\n",
            "Downloading http://yann.lecun.com/exdb/mnist/train-labels-idx1-ubyte.gz\n",
            "Downloading http://yann.lecun.com/exdb/mnist/train-labels-idx1-ubyte.gz to ./MNIST/raw/train-labels-idx1-ubyte.gz\n"
          ]
        },
        {
          "output_type": "display_data",
          "data": {
            "application/vnd.jupyter.widget-view+json": {
              "model_id": "25eafa82fe594af69fe1edd111d18640",
              "version_minor": 0,
              "version_major": 2
            },
            "text/plain": [
              "  0%|          | 0/28881 [00:00<?, ?it/s]"
            ]
          },
          "metadata": {}
        },
        {
          "output_type": "stream",
          "name": "stdout",
          "text": [
            "Extracting ./MNIST/raw/train-labels-idx1-ubyte.gz to ./MNIST/raw\n",
            "\n",
            "Downloading http://yann.lecun.com/exdb/mnist/t10k-images-idx3-ubyte.gz\n",
            "Downloading http://yann.lecun.com/exdb/mnist/t10k-images-idx3-ubyte.gz to ./MNIST/raw/t10k-images-idx3-ubyte.gz\n"
          ]
        },
        {
          "output_type": "display_data",
          "data": {
            "application/vnd.jupyter.widget-view+json": {
              "model_id": "efa84812f68d4ca19c53b39777f38b88",
              "version_minor": 0,
              "version_major": 2
            },
            "text/plain": [
              "  0%|          | 0/1648877 [00:00<?, ?it/s]"
            ]
          },
          "metadata": {}
        },
        {
          "output_type": "stream",
          "name": "stdout",
          "text": [
            "Extracting ./MNIST/raw/t10k-images-idx3-ubyte.gz to ./MNIST/raw\n",
            "\n",
            "Downloading http://yann.lecun.com/exdb/mnist/t10k-labels-idx1-ubyte.gz\n",
            "Downloading http://yann.lecun.com/exdb/mnist/t10k-labels-idx1-ubyte.gz to ./MNIST/raw/t10k-labels-idx1-ubyte.gz\n"
          ]
        },
        {
          "output_type": "display_data",
          "data": {
            "application/vnd.jupyter.widget-view+json": {
              "model_id": "c9905f6317324f579480407e4d1aea67",
              "version_minor": 0,
              "version_major": 2
            },
            "text/plain": [
              "  0%|          | 0/4542 [00:00<?, ?it/s]"
            ]
          },
          "metadata": {}
        },
        {
          "output_type": "stream",
          "name": "stdout",
          "text": [
            "Extracting ./MNIST/raw/t10k-labels-idx1-ubyte.gz to ./MNIST/raw\n",
            "\n"
          ]
        }
      ]
    },
    {
      "cell_type": "markdown",
      "metadata": {
        "id": "qVcpMWROe9Ad"
      },
      "source": [
        "# Generator Model"
      ]
    },
    {
      "cell_type": "markdown",
      "metadata": {
        "id": "lWQn7lEgpF6c"
      },
      "source": [
        "**Each layer of generator:**\n",
        "\n",
        "*   Fully connected with other layers\n",
        "*   Uses Linear(input, output) and LeakyReLU(0.2, inplace=True)"
      ]
    },
    {
      "cell_type": "code",
      "source": [
        "class Generator(nn.Module):\n",
        "    def __init__(self, Z_DIM=100, HIDDEN_DIM=64, OUT_CHANNEL=1):\n",
        "        super(Generator, self).__init__()\n",
        "        def block_generator(Z_DIM, HIDDEN_DIM, normalize=True): \n",
        "            layers = [nn.Linear(Z_DIM, HIDDEN_DIM)]\n",
        "            if normalize:\n",
        "                layers.append(nn.BatchNorm1d(HIDDEN_DIM, 0.8))\n",
        "            layers.append(nn.LeakyReLU(0.2, inplace=True))\n",
        "            return layers\n",
        "        self.model = nn.Sequential(\n",
        "            *block_generator(Z_DIM, HIDDEN_DIM*2, normalize=False),\n",
        "            *block_generator(HIDDEN_DIM*2, HIDDEN_DIM*4),\n",
        "            *block_generator(HIDDEN_DIM*4, HIDDEN_DIM*8),\n",
        "            *block_generator(HIDDEN_DIM*8, HIDDEN_DIM*16),\n",
        "            nn.Linear(HIDDEN_DIM*16, int(np.prod(img_shape))),\n",
        "            nn.Tanh() #[-1,1] for input and output\n",
        "        )\n",
        "    def forward(self, z):\n",
        "        img = self.model(z)\n",
        "        img=img.view(img.size(0), *img_shape)\n",
        "        return img"
      ],
      "metadata": {
        "id": "wulAz9trnpJE"
      },
      "execution_count": 23,
      "outputs": []
    },
    {
      "cell_type": "markdown",
      "metadata": {
        "id": "OBsDIxZvfGC1"
      },
      "source": [
        "# Discriminator Model"
      ]
    },
    {
      "cell_type": "markdown",
      "metadata": {
        "id": "k7ab8yAIUZ5D"
      },
      "source": [
        "**Each layer of discriminator:**\n",
        "\n",
        "\n",
        "*   Convolution for downsampling\n",
        "*   Use batchnorm except for the last layer\n",
        "*   Apply LeakyReLU activation with slope of 0.2 for all layers \n",
        "\n",
        "\n"
      ]
    },
    {
      "cell_type": "code",
      "source": [
        "class Discriminator(nn.Module):\n",
        "    def __init__(self, IM_CHANNEL=1, HIDDEN_DIM=64): \n",
        "        super(Discriminator, self).__init__()\n",
        "        #can also use function to create block here.\n",
        "        self.model = nn.Sequential(\n",
        "            nn.Linear(int(np.prod(img_shape)), HIDDEN_DIM*8),\n",
        "            nn.LeakyReLU(0.2, inplace=True), #try 0.1 also \n",
        "            nn.Linear(HIDDEN_DIM*8, HIDDEN_DIM*4),\n",
        "            nn.LeakyReLU(0.2, inplace=True), #try 0.1 also \n",
        "            nn.Linear(HIDDEN_DIM*4, 1),\n",
        "            nn.Sigmoid(),\n",
        "        )\n",
        "    def forward(self, img):\n",
        "        img_flat = img.view(img.size(0), -1)\n",
        "        return self.model(img_flat)"
      ],
      "metadata": {
        "id": "Fm-8wuHNn3Bl"
      },
      "execution_count": 22,
      "outputs": []
    },
    {
      "cell_type": "markdown",
      "metadata": {
        "id": "OvVfno2cfI6P"
      },
      "source": [
        "# Start Training"
      ]
    },
    {
      "cell_type": "code",
      "source": [
        "criterion = torch.nn.BCELoss()\n",
        "generator = Generator().to(device)\n",
        "discriminator = Discriminator().to(device)"
      ],
      "metadata": {
        "id": "9sPJr2ePn9m9"
      },
      "execution_count": 9,
      "outputs": []
    },
    {
      "cell_type": "code",
      "source": [
        "# Optimizers\n",
        "generator_optimizer = torch.optim.Adam(generator.parameters(), lr=LEARNING_RATE) #no need for betas.\n",
        "discriminator_optimizer = torch.optim.Adam(discriminator.parameters(), lr=LEARNING_RATE) #actually no need for betas.\n",
        "Tensor = torch.cuda.FloatTensor if torch.cuda else torch.FloatTensor\n",
        "generator.train()\n",
        "discriminator.train()"
      ],
      "metadata": {
        "id": "YC63e1RnpOXD",
        "colab": {
          "base_uri": "https://localhost:8080/"
        },
        "outputId": "e355e046-0b64-44d9-9384-1cabc62eb1dd"
      },
      "execution_count": 11,
      "outputs": [
        {
          "output_type": "execute_result",
          "data": {
            "text/plain": [
              "Discriminator(\n",
              "  (model): Sequential(\n",
              "    (0): Linear(in_features=784, out_features=512, bias=True)\n",
              "    (1): LeakyReLU(negative_slope=0.2, inplace=True)\n",
              "    (2): Linear(in_features=512, out_features=256, bias=True)\n",
              "    (3): LeakyReLU(negative_slope=0.2, inplace=True)\n",
              "    (4): Linear(in_features=256, out_features=1, bias=True)\n",
              "    (5): Sigmoid()\n",
              "  )\n",
              ")"
            ]
          },
          "metadata": {},
          "execution_count": 11
        }
      ]
    },
    {
      "cell_type": "code",
      "source": [
        "saved_imgs = []\n",
        "for epoch in range(NUM_EPOCHS):\n",
        "    print('Epoch ' + str(epoch) + ' training...' , end=' ')\n",
        "    start = time()\n",
        "    for i, (imgs, _) in enumerate(dataloader):\n",
        "        real = Variable(Tensor(imgs.size(0), 1).fill_(1.0), requires_grad=False)\n",
        "        fake = Variable(Tensor(imgs.size(0), 1).fill_(0.0), requires_grad=False)\n",
        "        real_imgs = Variable(imgs.type(Tensor))\n",
        "        \n",
        "        #Tranining Generator\n",
        "        generator_optimizer.zero_grad()\n",
        "        z = Variable(Tensor(np.random.normal(0, 1, (imgs.shape[0], Z_DIM)))) #noise\n",
        "        gen_imgs = generator(z)\n",
        "        generator_loss = criterion(discriminator(gen_imgs), real)\n",
        "        #Calculating generator's gradient\n",
        "        generator_loss.backward()\n",
        "        #Updating generator's optimizer\n",
        "        generator_optimizer.step()\n",
        "\n",
        "        # Training Discriminator\n",
        "        discriminator_optimizer.zero_grad()\n",
        "        real_loss = criterion(discriminator(real_imgs),real)\n",
        "        fake_loss = criterion(discriminator(gen_imgs.detach()), fake)\n",
        "        discriminator_loss = (real_loss + fake_loss) / 2\n",
        "        #Calculating discriminator's gradient\n",
        "        discriminator_loss.backward()\n",
        "        #Updating discriminator's optimizer\n",
        "        discriminator_optimizer.step()\n",
        "\n",
        "    end = time()\n",
        "    elapsed = end - start\n",
        "    print('done, took %.1f seconds.' % elapsed)\n",
        "    grid = torchvision.utils.make_grid(gen_imgs.data.cpu(), nrow=DIM)\n",
        "    img = (np.transpose(grid.detach().numpy(), (1, 2 ,0)) * 255).astype(np.uint8)\n",
        "    saved_imgs.append(img)"
      ],
      "metadata": {
        "colab": {
          "base_uri": "https://localhost:8080/"
        },
        "id": "lOIPHuCJpbX7",
        "outputId": "6fa6a7c8-7782-45b9-8e21-71c632584ad6"
      },
      "execution_count": null,
      "outputs": [
        {
          "output_type": "stream",
          "name": "stdout",
          "text": [
            "Epoch 0 training... done, took 18.2 seconds.\n",
            "Epoch 1 training... done, took 17.7 seconds.\n",
            "Epoch 2 training... done, took 17.2 seconds.\n",
            "Epoch 3 training... done, took 17.1 seconds.\n",
            "Epoch 4 training... done, took 21.7 seconds.\n",
            "Epoch 5 training... done, took 18.2 seconds.\n",
            "Epoch 6 training... done, took 20.5 seconds.\n",
            "Epoch 7 training... done, took 17.0 seconds.\n",
            "Epoch 8 training... done, took 17.3 seconds.\n",
            "Epoch 9 training... done, took 17.8 seconds.\n",
            "Epoch 10 training... done, took 17.4 seconds.\n",
            "Epoch 11 training... done, took 17.6 seconds.\n",
            "Epoch 12 training... done, took 18.0 seconds.\n",
            "Epoch 13 training... done, took 17.4 seconds.\n",
            "Epoch 14 training... done, took 17.2 seconds.\n",
            "Epoch 15 training... done, took 17.2 seconds.\n",
            "Epoch 16 training... done, took 17.1 seconds.\n",
            "Epoch 17 training... done, took 17.2 seconds.\n",
            "Epoch 18 training... done, took 17.2 seconds.\n",
            "Epoch 19 training... done, took 17.1 seconds.\n",
            "Epoch 20 training... done, took 17.2 seconds.\n",
            "Epoch 21 training... done, took 17.1 seconds.\n",
            "Epoch 22 training... done, took 17.2 seconds.\n",
            "Epoch 23 training... done, took 17.3 seconds.\n",
            "Epoch 24 training... done, took 17.4 seconds.\n",
            "Epoch 25 training... done, took 17.4 seconds.\n",
            "Epoch 26 training... done, took 17.5 seconds.\n",
            "Epoch 27 training... done, took 17.5 seconds.\n",
            "Epoch 28 training... done, took 17.3 seconds.\n",
            "Epoch 29 training... done, took 17.4 seconds.\n",
            "Epoch 30 training... done, took 17.4 seconds.\n",
            "Epoch 31 training... done, took 17.3 seconds.\n",
            "Epoch 32 training... done, took 17.4 seconds.\n",
            "Epoch 33 training... done, took 17.3 seconds.\n",
            "Epoch 34 training... done, took 17.5 seconds.\n",
            "Epoch 35 training... done, took 17.3 seconds.\n",
            "Epoch 36 training... done, took 17.2 seconds.\n",
            "Epoch 37 training... done, took 17.0 seconds.\n",
            "Epoch 38 training... done, took 17.2 seconds.\n",
            "Epoch 39 training... done, took 17.2 seconds.\n",
            "Epoch 40 training... done, took 17.1 seconds.\n",
            "Epoch 41 training... done, took 17.0 seconds.\n",
            "Epoch 42 training... done, took 17.2 seconds.\n",
            "Epoch 43 training... done, took 17.1 seconds.\n",
            "Epoch 44 training... done, took 17.0 seconds.\n",
            "Epoch 45 training... done, took 16.8 seconds.\n",
            "Epoch 46 training... done, took 16.8 seconds.\n",
            "Epoch 47 training... done, took 16.8 seconds.\n",
            "Epoch 48 training... done, took 16.9 seconds.\n",
            "Epoch 49 training... done, took 16.8 seconds.\n",
            "Epoch 50 training... done, took 16.9 seconds.\n",
            "Epoch 51 training... done, took 17.1 seconds.\n",
            "Epoch 52 training... done, took 17.0 seconds.\n",
            "Epoch 53 training... done, took 16.9 seconds.\n",
            "Epoch 54 training... done, took 17.0 seconds.\n",
            "Epoch 55 training... done, took 16.9 seconds.\n",
            "Epoch 56 training... done, took 17.0 seconds.\n",
            "Epoch 57 training... done, took 17.0 seconds.\n",
            "Epoch 58 training... done, took 16.8 seconds.\n",
            "Epoch 59 training... done, took 16.9 seconds.\n",
            "Epoch 60 training... done, took 16.8 seconds.\n",
            "Epoch 61 training... done, took 16.8 seconds.\n",
            "Epoch 62 training... done, took 16.9 seconds.\n",
            "Epoch 63 training... done, took 16.9 seconds.\n",
            "Epoch 64 training... done, took 16.7 seconds.\n",
            "Epoch 65 training... done, took 16.9 seconds.\n",
            "Epoch 66 training... done, took 16.7 seconds.\n",
            "Epoch 67 training... done, took 16.7 seconds.\n",
            "Epoch 68 training... done, took 16.8 seconds.\n",
            "Epoch 69 training... done, took 16.9 seconds.\n",
            "Epoch 70 training... done, took 16.8 seconds.\n",
            "Epoch 71 training... done, took 16.9 seconds.\n",
            "Epoch 72 training... done, took 16.8 seconds.\n",
            "Epoch 73 training... done, took 16.7 seconds.\n",
            "Epoch 74 training... done, took 16.7 seconds.\n",
            "Epoch 75 training... done, took 16.9 seconds.\n",
            "Epoch 76 training... done, took 16.7 seconds.\n",
            "Epoch 77 training... done, took 16.9 seconds.\n",
            "Epoch 78 training... done, took 16.8 seconds.\n",
            "Epoch 79 training... done, took 16.8 seconds.\n",
            "Epoch 80 training... done, took 16.6 seconds.\n",
            "Epoch 81 training... done, took 16.7 seconds.\n",
            "Epoch 82 training... done, took 16.7 seconds.\n",
            "Epoch 83 training... done, took 16.5 seconds.\n",
            "Epoch 84 training... done, took 16.5 seconds.\n",
            "Epoch 85 training... done, took 16.8 seconds.\n",
            "Epoch 86 training... done, took 16.9 seconds.\n",
            "Epoch 87 training... done, took 16.9 seconds.\n",
            "Epoch 88 training... done, took 17.0 seconds.\n",
            "Epoch 89 training... done, took 17.0 seconds.\n",
            "Epoch 90 training... done, took 16.8 seconds.\n",
            "Epoch 91 training... "
          ]
        }
      ]
    },
    {
      "cell_type": "markdown",
      "metadata": {
        "id": "8BPp8cIIfQbI"
      },
      "source": [
        "# Visualization"
      ]
    },
    {
      "cell_type": "code",
      "source": [
        "img_indexes = [0, 4, 9, 49, 99] \n",
        "for i in img_indexes:\n",
        "    plt.figure(figsize = (DIM, DIM))\n",
        "    plt.imshow(saved_imgs[i], interpolation='nearest')"
      ],
      "metadata": {
        "colab": {
          "base_uri": "https://localhost:8080/",
          "height": 218
        },
        "id": "3Czua2AtpiNm",
        "outputId": "edadb6e3-c07d-4fa2-b965-a9cfbec17d5a"
      },
      "execution_count": 1,
      "outputs": [
        {
          "output_type": "error",
          "ename": "NameError",
          "evalue": "ignored",
          "traceback": [
            "\u001b[0;31m---------------------------------------------------------------------------\u001b[0m",
            "\u001b[0;31mNameError\u001b[0m                                 Traceback (most recent call last)",
            "\u001b[0;32m<ipython-input-1-ff83fd5b5dc4>\u001b[0m in \u001b[0;36m<module>\u001b[0;34m()\u001b[0m\n\u001b[1;32m      1\u001b[0m \u001b[0mimg_indexes\u001b[0m \u001b[0;34m=\u001b[0m \u001b[0;34m[\u001b[0m\u001b[0;36m0\u001b[0m\u001b[0;34m,\u001b[0m \u001b[0;36m4\u001b[0m\u001b[0;34m,\u001b[0m \u001b[0;36m9\u001b[0m\u001b[0;34m]\u001b[0m \u001b[0;31m#, 49, 99, 149, 199\u001b[0m\u001b[0;34m\u001b[0m\u001b[0;34m\u001b[0m\u001b[0m\n\u001b[1;32m      2\u001b[0m \u001b[0;32mfor\u001b[0m \u001b[0mi\u001b[0m \u001b[0;32min\u001b[0m \u001b[0mimg_indexes\u001b[0m\u001b[0;34m:\u001b[0m\u001b[0;34m\u001b[0m\u001b[0;34m\u001b[0m\u001b[0m\n\u001b[0;32m----> 3\u001b[0;31m     \u001b[0mplt\u001b[0m\u001b[0;34m.\u001b[0m\u001b[0mfigure\u001b[0m\u001b[0;34m(\u001b[0m\u001b[0mfigsize\u001b[0m \u001b[0;34m=\u001b[0m \u001b[0;34m(\u001b[0m\u001b[0mDIM\u001b[0m\u001b[0;34m,\u001b[0m \u001b[0mDIM\u001b[0m\u001b[0;34m)\u001b[0m\u001b[0;34m)\u001b[0m\u001b[0;34m\u001b[0m\u001b[0;34m\u001b[0m\u001b[0m\n\u001b[0m\u001b[1;32m      4\u001b[0m     \u001b[0mplt\u001b[0m\u001b[0;34m.\u001b[0m\u001b[0mimshow\u001b[0m\u001b[0;34m(\u001b[0m\u001b[0msaved_imgs\u001b[0m\u001b[0;34m[\u001b[0m\u001b[0mi\u001b[0m\u001b[0;34m]\u001b[0m\u001b[0;34m,\u001b[0m \u001b[0minterpolation\u001b[0m\u001b[0;34m=\u001b[0m\u001b[0;34m'nearest'\u001b[0m\u001b[0;34m)\u001b[0m\u001b[0;34m\u001b[0m\u001b[0;34m\u001b[0m\u001b[0m\n",
            "\u001b[0;31mNameError\u001b[0m: name 'plt' is not defined"
          ]
        }
      ]
    },
    {
      "cell_type": "markdown",
      "metadata": {
        "id": "285cmBrQ2mCZ"
      },
      "source": [
        "# Summary\n",
        "\n",
        "\n",
        "*   GAN is very sensitive to hyperparameter -> highly unstable\n",
        "*   Problem with output: generator learns 1 or 2 patterns and stops (here: generator creates almost only 1 or/and 9)\n",
        "*   Low quality images\n",
        "\n",
        "Useful links:\n",
        "*   GAN Paper: https://arxiv.org/pdf/1406.2661.pdf\n",
        "*   GAN explained, but the codes do not actually work: https://www.youtube.com/watch?v=OljTVUVzPpM&list=WL&index=39&t=765s\n",
        "\n",
        "\n"
      ]
    }
  ]
}